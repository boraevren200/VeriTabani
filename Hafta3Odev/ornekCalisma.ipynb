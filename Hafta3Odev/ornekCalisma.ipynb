{
 "cells": [
  {
   "cell_type": "code",
   "execution_count": 11,
   "metadata": {},
   "outputs": [
    {
     "name": "stdout",
     "output_type": "stream",
     "text": [
      "1\n"
     ]
    }
   ],
   "source": [
    "sayilar = [8,1,6,25,4,62,56,86,2,3,78,65]\n",
    "for deger in range(len(sayilar)):  \n",
    "    if sayilar[0] > sayilar[deger]:\n",
    "        sayilar[0] = sayilar[deger]\n",
    "        print(sayilar[deger])\n",
    "       \n",
    "           \n",
    "\n"
   ]
  }
 ],
 "metadata": {
  "interpreter": {
   "hash": "3f427ea00e7463d7b9e490934d7e646681b5f6db9901101833e2e9f3b8926d22"
  },
  "kernelspec": {
   "display_name": "Python 3.8.9 64-bit",
   "language": "python",
   "name": "python3"
  },
  "language_info": {
   "codemirror_mode": {
    "name": "ipython",
    "version": 3
   },
   "file_extension": ".py",
   "mimetype": "text/x-python",
   "name": "python",
   "nbconvert_exporter": "python",
   "pygments_lexer": "ipython3",
   "version": "3.8.9"
  },
  "orig_nbformat": 4
 },
 "nbformat": 4,
 "nbformat_minor": 2
}
