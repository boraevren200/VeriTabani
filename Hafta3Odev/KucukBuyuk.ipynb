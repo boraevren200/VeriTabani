{
 "cells": [
  {
   "cell_type": "code",
   "execution_count": 1,
   "metadata": {},
   "outputs": [
    {
     "name": "stdout",
     "output_type": "stream",
     "text": [
      "[1, 2, 3, 4, 6, 8, 25, 56, 62, 65, 78, 86]\n"
     ]
    }
   ],
   "source": [
    "sayilar = [8,1,6,25,4,62,56,86,2,3,78,65]\n",
    "for i in range(len(sayilar)):\n",
    "    for j in range(len(sayilar)-1):\n",
    "        if(sayilar[j]>sayilar[j+1]):\n",
    "            sayilar[j],sayilar[j+1]=sayilar[j+1],sayilar[j]       \n",
    "        else:\n",
    "            continue                                 \n",
    "print(sayilar)\n",
    "        \n",
    "             "
   ]
  }
 ],
 "metadata": {
  "language_info": {
   "name": "python"
  },
  "orig_nbformat": 4
 },
 "nbformat": 4,
 "nbformat_minor": 2
}
