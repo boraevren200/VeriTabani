{
 "cells": [
  {
   "cell_type": "code",
   "execution_count": null,
   "id": "6eac010d",
   "metadata": {
    "scrolled": true
   },
   "outputs": [],
   "source": [
    "userInput = int(input(\"Değeri Giriniz : \"))\n",
    "fibo = [0, 1]   \n",
    "for value in range(userInput):\n",
    "    fibo.append(fibo[value] + fibo[value+1])\n",
    "    if userInput==(len(fibo)):\n",
    "     print(fibo)\n",
    "     break\n",
    "    "
   ]
  }
 ],
 "metadata": {
  "kernelspec": {
   "display_name": "Python 3 (ipykernel)",
   "language": "python",
   "name": "python3"
  },
  "language_info": {
   "codemirror_mode": {
    "name": "ipython",
    "version": 3
   },
   "file_extension": ".py",
   "mimetype": "text/x-python",
   "name": "python",
   "nbconvert_exporter": "python",
   "pygments_lexer": "ipython3",
   "version": "3.9.7"
  }
 },
 "nbformat": 4,
 "nbformat_minor": 5
}
