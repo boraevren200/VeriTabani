{
 "cells": [
  {
   "cell_type": "code",
   "execution_count": null,
   "id": "25e83839",
   "metadata": {},
   "outputs": [],
   "source": [
    "userinput_Kisa = float(input(\"Kısa kenarı giriniz : \"))\n",
    "userinput_Uzun = float(input(\"Uzun kenarı giriniz : \"))\n",
    "alan = userinput_Kisa*userinput_Uzun\n",
    "print(alan)"
   ]
  },
  {
   "cell_type": "code",
   "execution_count": null,
   "id": "c05540f9",
   "metadata": {},
   "outputs": [],
   "source": []
  }
 ],
 "metadata": {
  "kernelspec": {
   "display_name": "Python 3 (ipykernel)",
   "language": "python",
   "name": "python3"
  },
  "language_info": {
   "codemirror_mode": {
    "name": "ipython",
    "version": 3
   },
   "file_extension": ".py",
   "mimetype": "text/x-python",
   "name": "python",
   "nbconvert_exporter": "python",
   "pygments_lexer": "ipython3",
   "version": "3.9.7"
  }
 },
 "nbformat": 4,
 "nbformat_minor": 5
}
