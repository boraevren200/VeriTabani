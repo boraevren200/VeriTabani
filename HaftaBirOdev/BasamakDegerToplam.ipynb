{
 "cells": [
  {
   "cell_type": "code",
   "execution_count": null,
   "id": "f21405eb",
   "metadata": {},
   "outputs": [],
   "source": [
    "userInput = input(\"Sayı Giriniz : \")\n",
    "basamakDegerleri=0\n",
    "for basamak in userInput:\n",
    "  basamakDegerleri += int(basamak)\n",
    "print(basamakDegerleri)"
   ]
  },
  {
   "cell_type": "code",
   "execution_count": null,
   "id": "ab0a010a",
   "metadata": {},
   "outputs": [],
   "source": []
  }
 ],
 "metadata": {
  "kernelspec": {
   "display_name": "Python 3 (ipykernel)",
   "language": "python",
   "name": "python3"
  },
  "language_info": {
   "codemirror_mode": {
    "name": "ipython",
    "version": 3
   },
   "file_extension": ".py",
   "mimetype": "text/x-python",
   "name": "python",
   "nbconvert_exporter": "python",
   "pygments_lexer": "ipython3",
   "version": "3.9.7"
  }
 },
 "nbformat": 4,
 "nbformat_minor": 5
}
